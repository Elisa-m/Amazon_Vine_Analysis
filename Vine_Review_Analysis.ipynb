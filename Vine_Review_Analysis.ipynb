{
  "nbformat": 4,
  "nbformat_minor": 0,
  "metadata": {
    "colab": {
      "name": "Vine_Review_Analysis.ipynb",
      "provenance": [],
      "collapsed_sections": []
    },
    "kernelspec": {
      "name": "python3",
      "display_name": "Python 3"
    }
  },
  "cells": [
    {
      "cell_type": "code",
      "metadata": {
        "id": "UC6KfV63tM5-",
        "outputId": "41777eac-f6c6-4b36-972d-8e917f17390f",
        "colab": {
          "base_uri": "https://localhost:8080/"
        }
      },
      "source": [
        "import os\n",
        "# Find the latest version of spark 2.0  from http://www-us.apache.org/dist/spark/ and enter as the spark version\n",
        "# For example:\n",
        "# spark_version = 'spark-3.0.0'\n",
        "spark_version = 'spark-3.0.1'\n",
        "os.environ['SPARK_VERSION']=spark_version\n",
        "\n",
        "# Install Spark and Java\n",
        "!apt-get update\n",
        "!apt-get install openjdk-11-jdk-headless -qq > /dev/null\n",
        "!wget -q http://www-us.apache.org/dist/spark/$SPARK_VERSION/$SPARK_VERSION-bin-hadoop2.7.tgz\n",
        "!tar xf $SPARK_VERSION-bin-hadoop2.7.tgz\n",
        "!pip install -q findspark\n",
        "\n",
        "# Set Environment Variables\n",
        "import os\n",
        "os.environ[\"JAVA_HOME\"] = \"/usr/lib/jvm/java-11-openjdk-amd64\"\n",
        "os.environ[\"SPARK_HOME\"] = f\"/content/{spark_version}-bin-hadoop2.7\"\n",
        "\n",
        "# Start a SparkSession\n",
        "import findspark\n",
        "findspark.init()"
      ],
      "execution_count": 1,
      "outputs": [
        {
          "output_type": "stream",
          "text": [
            "Get:1 https://cloud.r-project.org/bin/linux/ubuntu bionic-cran40/ InRelease [3,626 B]\n",
            "Ign:2 https://developer.download.nvidia.com/compute/cuda/repos/ubuntu1804/x86_64  InRelease\n",
            "Get:3 http://security.ubuntu.com/ubuntu bionic-security InRelease [88.7 kB]\n",
            "Ign:4 https://developer.download.nvidia.com/compute/machine-learning/repos/ubuntu1804/x86_64  InRelease\n",
            "Hit:5 http://ppa.launchpad.net/c2d4u.team/c2d4u4.0+/ubuntu bionic InRelease\n",
            "Get:6 https://developer.download.nvidia.com/compute/cuda/repos/ubuntu1804/x86_64  Release [697 B]\n",
            "Hit:7 https://developer.download.nvidia.com/compute/machine-learning/repos/ubuntu1804/x86_64  Release\n",
            "Get:8 https://developer.download.nvidia.com/compute/cuda/repos/ubuntu1804/x86_64  Release.gpg [836 B]\n",
            "Hit:9 http://archive.ubuntu.com/ubuntu bionic InRelease\n",
            "Hit:11 http://ppa.launchpad.net/graphics-drivers/ppa/ubuntu bionic InRelease\n",
            "Get:12 http://archive.ubuntu.com/ubuntu bionic-updates InRelease [88.7 kB]\n",
            "Ign:13 https://developer.download.nvidia.com/compute/cuda/repos/ubuntu1804/x86_64  Packages\n",
            "Get:13 https://developer.download.nvidia.com/compute/cuda/repos/ubuntu1804/x86_64  Packages [405 kB]\n",
            "Get:14 http://security.ubuntu.com/ubuntu bionic-security/universe amd64 Packages [1,353 kB]\n",
            "Get:15 http://archive.ubuntu.com/ubuntu bionic-backports InRelease [74.6 kB]\n",
            "Get:16 http://archive.ubuntu.com/ubuntu bionic-updates/main amd64 Packages [2,165 kB]\n",
            "Get:17 http://security.ubuntu.com/ubuntu bionic-security/main amd64 Packages [1,748 kB]\n",
            "Get:18 http://archive.ubuntu.com/ubuntu bionic-updates/universe amd64 Packages [2,115 kB]\n",
            "Fetched 8,043 kB in 4s (2,222 kB/s)\n",
            "Reading package lists... Done\n"
          ],
          "name": "stdout"
        }
      ]
    },
    {
      "cell_type": "code",
      "metadata": {
        "id": "mBxluBP0tclT",
        "outputId": "cbb93863-d6f2-43a2-8576-972ba633185d",
        "colab": {
          "base_uri": "https://localhost:8080/"
        }
      },
      "source": [
        "# Download the Postgres driver that will allow Spark to interact with Postgres.\n",
        "!wget https://jdbc.postgresql.org/download/postgresql-42.2.16.jar"
      ],
      "execution_count": 2,
      "outputs": [
        {
          "output_type": "stream",
          "text": [
            "--2020-10-30 18:12:18--  https://jdbc.postgresql.org/download/postgresql-42.2.16.jar\n",
            "Resolving jdbc.postgresql.org (jdbc.postgresql.org)... 72.32.157.228, 2001:4800:3e1:1::228\n",
            "Connecting to jdbc.postgresql.org (jdbc.postgresql.org)|72.32.157.228|:443... connected.\n",
            "HTTP request sent, awaiting response... 200 OK\n",
            "Length: 1002883 (979K) [application/java-archive]\n",
            "Saving to: ‘postgresql-42.2.16.jar’\n",
            "\n",
            "postgresql-42.2.16. 100%[===================>] 979.38K  1.01MB/s    in 0.9s    \n",
            "\n",
            "2020-10-30 18:12:20 (1.01 MB/s) - ‘postgresql-42.2.16.jar’ saved [1002883/1002883]\n",
            "\n"
          ],
          "name": "stdout"
        }
      ]
    },
    {
      "cell_type": "code",
      "metadata": {
        "id": "U55PKQZ4thoF"
      },
      "source": [
        "from pyspark.sql import SparkSession\n",
        "spark = SparkSession.builder.appName(\"BigData-Challenge\").config(\"spark.driver.extraClassPath\",\"/content/postgresql-42.2.16.jar\").getOrCreate()"
      ],
      "execution_count": 3,
      "outputs": []
    },
    {
      "cell_type": "markdown",
      "metadata": {
        "id": "AdEbn9w3to9X"
      },
      "source": [
        "# Load Amazon Data into Spark DataFrame"
      ]
    },
    {
      "cell_type": "code",
      "metadata": {
        "id": "GNvsqQ7ltlXk",
        "outputId": "c553fbe4-d1d5-4ead-c3f8-31abf0e3978e",
        "colab": {
          "base_uri": "https://localhost:8080/"
        }
      },
      "source": [
        "# Read in the Review dataset as a DataFrame\n",
        "from pyspark import SparkFiles\n",
        "url = \"https://s3.amazonaws.com/amazon-reviews-pds/tsv/amazon_reviews_us_Toys_v1_00.tsv.gz\"\n",
        "spark.sparkContext.addFile(url)\n",
        "df = spark.read.option(\"encoding\", \"UTF-8\").csv(SparkFiles.get(\"amazon_reviews_us_Toys_v1_00.tsv.gz\"), sep=\"\\t\", header=True, inferSchema=True)\n",
        "df.show()"
      ],
      "execution_count": 4,
      "outputs": [
        {
          "output_type": "stream",
          "text": [
            "+-----------+-----------+--------------+----------+--------------+--------------------+----------------+-----------+-------------+-----------+----+-----------------+--------------------+--------------------+-----------+\n",
            "|marketplace|customer_id|     review_id|product_id|product_parent|       product_title|product_category|star_rating|helpful_votes|total_votes|vine|verified_purchase|     review_headline|         review_body|review_date|\n",
            "+-----------+-----------+--------------+----------+--------------+--------------------+----------------+-----------+-------------+-----------+----+-----------------+--------------------+--------------------+-----------+\n",
            "|         US|   18778586| RDIJS7QYB6XNR|B00EDBY7X8|     122952789|Monopoly Junior B...|            Toys|          5|            0|          0|   N|                Y|          Five Stars|        Excellent!!!| 2015-08-31|\n",
            "|         US|   24769659|R36ED1U38IELG8|B00D7JFOPC|     952062646|56 Pieces of Wood...|            Toys|          5|            0|          0|   N|                Y|Good quality trac...|Great quality woo...| 2015-08-31|\n",
            "|         US|   44331596| R1UE3RPRGCOLD|B002LHA74O|     818126353|Super Jumbo Playi...|            Toys|          2|            1|          1|   N|                Y|           Two Stars|Cards are not as ...| 2015-08-31|\n",
            "|         US|   23310293|R298788GS6I901|B00ARPLCGY|     261944918|Barbie Doll and F...|            Toys|          5|            0|          0|   N|                Y|my daughter loved...|my daughter loved...| 2015-08-31|\n",
            "|         US|   38745832|  RNX4EXOBBPN5|B00UZOPOFW|     717410439|Emazing Lights eL...|            Toys|          1|            1|          1|   N|                Y|     DONT BUY THESE!|Do not buy these!...| 2015-08-31|\n",
            "|         US|   13394189|R3BPETL222LMIM|B009B7F6CA|     873028700|Melissa & Doug Wa...|            Toys|          5|            0|          0|   N|                Y|          Five Stars|Great item. Pictu...| 2015-08-31|\n",
            "|         US|    2749569|R3SORMPJZO3F2J|B0101EHRSM|     723424342|Big Bang Cosmic P...|            Toys|          3|            2|          2|   N|                Y|         Three Stars|To keep together,...| 2015-08-31|\n",
            "|         US|   41137196|R2RDOJQ0WBZCF6|B00407S11Y|     383363775|Fun Express Insec...|            Toys|          5|            0|          0|   N|                Y|          Five Stars|I was pleased wit...| 2015-08-31|\n",
            "|         US|     433677|R2B8VBEPB4YEZ7|B00FGPU7U2|     780517568|Fisher-Price Octo...|            Toys|          5|            0|          0|   N|                Y|          Five Stars|    Children like it| 2015-08-31|\n",
            "|         US|    1297934|R1CB783I7B0U52|B0013OY0S0|     269360126|Claw Climber Goli...|            Toys|          1|            0|          1|   N|                Y|Shame on the sell...|Showed up not how...| 2015-08-31|\n",
            "|         US|   52006292| R2D90RQQ3V8LH|B00519PJTW|     493486387|100 Foot Multicol...|            Toys|          5|            0|          0|   N|                Y|          Five Stars|Really liked thes...| 2015-08-31|\n",
            "|         US|   32071052|R1Y4ZOUGFMJ327|B001TCY2DO|     459122467|Pig Jumbo Foil Ba...|            Toys|          5|            0|          0|   N|                Y|   Nice huge balloon|Nice huge balloon...| 2015-08-31|\n",
            "|         US|    7360347|R2BUV9QJI2A00X|B00DOQCWF8|     226984155|Minecraft Animal ...|            Toys|          5|            0|          1|   N|                Y|          Five Stars|          Great deal| 2015-08-31|\n",
            "|         US|   11613707| RSUHRJFJIRB3Z|B004C04I4I|     375659886|Disney Baby: Eeyo...|            Toys|          4|            0|          0|   N|                Y|          Four Stars|       As Advertised| 2015-08-31|\n",
            "|         US|   13545982|R1T96CG98BBA15|B00NWGEKBY|     933734136|Team Losi 8IGHT-E...|            Toys|          3|            2|          4|   N|                Y|... servo so expe...|Comes w a 15$ ser...| 2015-08-31|\n",
            "|         US|   43880421| R2ATXF4QQ30YW|B00000JS5S|     341842639|Hot Wheels 48- Ca...|            Toys|          5|            0|          0|   N|                Y|          Five Stars|   awesome ! Thanks!| 2015-08-31|\n",
            "|         US|    1662075|R1YS3DS218NNMD|B00XPWXYDK|     210135375|ZuZo 2.4GHz 4 CH ...|            Toys|          5|            4|          4|   N|                N|The closest relev...|I got this item f...| 2015-08-31|\n",
            "|         US|   18461411|R2SDXLTLF92O0H|B00VPXX92W|     705054378|Teenage Mutant Ni...|            Toys|          5|            0|          0|   N|                Y|          Five Stars|It was a birthday...| 2015-08-31|\n",
            "|         US|   27225859| R4R337CCDWLNG|B00YRA3H4U|     223420727|Franklin Sports M...|            Toys|          3|            0|          1|   Y|                N|Got wrong product...|Got a wrong produ...| 2015-08-31|\n",
            "|         US|   20494593|R32Z6UA4S5Q630|B009T8BSQY|     787701676|Alien Frontiers: ...|            Toys|          1|            0|          0|   N|                Y|         Overpriced.|You need expansio...| 2015-08-31|\n",
            "+-----------+-----------+--------------+----------+--------------+--------------------+----------------+-----------+-------------+-----------+----+-----------------+--------------------+--------------------+-----------+\n",
            "only showing top 20 rows\n",
            "\n"
          ],
          "name": "stdout"
        }
      ]
    },
    {
      "cell_type": "code",
      "metadata": {
        "id": "D1WSL3yfux7S",
        "outputId": "89db3da6-c901-4cf7-e4c9-7889c2614a7a",
        "colab": {
          "base_uri": "https://localhost:8080/"
        }
      },
      "source": [
        "# Create the vine_table. DataFrame\n",
        "vine_df = df.select([\"review_id\", \"star_rating\", \"helpful_votes\", \"total_votes\", \"vine\", \"verified_purchase\"])\n",
        "vine_df.show(5)"
      ],
      "execution_count": 5,
      "outputs": [
        {
          "output_type": "stream",
          "text": [
            "+--------------+-----------+-------------+-----------+----+-----------------+\n",
            "|     review_id|star_rating|helpful_votes|total_votes|vine|verified_purchase|\n",
            "+--------------+-----------+-------------+-----------+----+-----------------+\n",
            "| RDIJS7QYB6XNR|          5|            0|          0|   N|                Y|\n",
            "|R36ED1U38IELG8|          5|            0|          0|   N|                Y|\n",
            "| R1UE3RPRGCOLD|          2|            1|          1|   N|                Y|\n",
            "|R298788GS6I901|          5|            0|          0|   N|                Y|\n",
            "|  RNX4EXOBBPN5|          1|            1|          1|   N|                Y|\n",
            "+--------------+-----------+-------------+-----------+----+-----------------+\n",
            "only showing top 5 rows\n",
            "\n"
          ],
          "name": "stdout"
        }
      ]
    },
    {
      "cell_type": "code",
      "metadata": {
        "id": "-mmDXOD1u-fc",
        "outputId": "d18c701b-01a2-4362-eb27-bbf252ca346d",
        "colab": {
          "base_uri": "https://localhost:8080/"
        }
      },
      "source": [
        "# Retrieve all the rows where the total_votes count is equal to or greater than 20\n",
        "filtered_vine_df = vine_df.filter(vine_df.total_votes >= 20)\n",
        "filtered_vine_df.show()"
      ],
      "execution_count": 14,
      "outputs": [
        {
          "output_type": "stream",
          "text": [
            "+--------------+-----------+-------------+-----------+----+-----------------+\n",
            "|     review_id|star_rating|helpful_votes|total_votes|vine|verified_purchase|\n",
            "+--------------+-----------+-------------+-----------+----+-----------------+\n",
            "| ROP6ITXO8K5V2|          5|           23|         27|   N|                Y|\n",
            "|R3ND1LVU7AXCVF|          1|           21|         21|   N|                Y|\n",
            "| R9I5FOLKU99RY|          5|           19|         20|   Y|                N|\n",
            "|R1QS8AOD6HX3ED|          4|           59|         81|   N|                N|\n",
            "|R3ED60RC69CCQ6|          5|           22|         23|   Y|                N|\n",
            "|R2MDI1TP46VSYD|          3|            9|         21|   N|                Y|\n",
            "|R2JM687C525WR9|          3|           33|         33|   Y|                N|\n",
            "|R2LWX4TZ67FWPT|          4|           50|         50|   N|                N|\n",
            "|R29IYHPYD14AGI|          3|           84|         84|   N|                Y|\n",
            "|R1F2I723WRK5QV|          5|           20|         20|   N|                Y|\n",
            "| RRO8C1IVZMD6H|          5|           22|         22|   N|                N|\n",
            "|R2GHOWIWDVLN18|          1|           28|         36|   N|                Y|\n",
            "|R30PJ9XUHFTY5D|          5|           42|         43|   N|                N|\n",
            "| RK12D8DTG4G82|          5|            5|         22|   N|                N|\n",
            "|R2F7D9N3SSQC20|          4|           32|         34|   N|                N|\n",
            "| RN4VK9FV66YPS|          5|           29|         33|   N|                N|\n",
            "|R18T8SFBDXAKSY|          5|           95|         95|   N|                Y|\n",
            "|R36SKVJXZ0I98A|          5|          124|        127|   N|                N|\n",
            "| RJDIWMOZT0EGZ|          1|           11|         27|   N|                N|\n",
            "|R3PAIHQSO707G4|          5|          189|        221|   N|                N|\n",
            "+--------------+-----------+-------------+-----------+----+-----------------+\n",
            "only showing top 20 rows\n",
            "\n"
          ],
          "name": "stdout"
        }
      ]
    },
    {
      "cell_type": "code",
      "metadata": {
        "id": "EKXbb5RqxqCh",
        "outputId": "d473b701-70f6-47b5-e5a7-74e25bc2f593",
        "colab": {
          "base_uri": "https://localhost:8080/"
        }
      },
      "source": [
        "# Retrieve all the rows where the number of helpful_votes divided by total_votes is equal to or greater than 50%\n",
        "filtered2_vine_df = filtered_vine_df.filter(filtered_vine_df.helpful_votes / filtered_vine_df.total_votes >= .5)\n",
        "filtered2_vine_df.show()"
      ],
      "execution_count": 13,
      "outputs": [
        {
          "output_type": "stream",
          "text": [
            "+--------------+-----------+-------------+-----------+----+-----------------+\n",
            "|     review_id|star_rating|helpful_votes|total_votes|vine|verified_purchase|\n",
            "+--------------+-----------+-------------+-----------+----+-----------------+\n",
            "| ROP6ITXO8K5V2|          5|           23|         27|   N|                Y|\n",
            "|R3ND1LVU7AXCVF|          1|           21|         21|   N|                Y|\n",
            "| R9I5FOLKU99RY|          5|           19|         20|   Y|                N|\n",
            "|R1QS8AOD6HX3ED|          4|           59|         81|   N|                N|\n",
            "|R3ED60RC69CCQ6|          5|           22|         23|   Y|                N|\n",
            "|R2JM687C525WR9|          3|           33|         33|   Y|                N|\n",
            "|R2LWX4TZ67FWPT|          4|           50|         50|   N|                N|\n",
            "|R29IYHPYD14AGI|          3|           84|         84|   N|                Y|\n",
            "|R1F2I723WRK5QV|          5|           20|         20|   N|                Y|\n",
            "| RRO8C1IVZMD6H|          5|           22|         22|   N|                N|\n",
            "|R2GHOWIWDVLN18|          1|           28|         36|   N|                Y|\n",
            "|R30PJ9XUHFTY5D|          5|           42|         43|   N|                N|\n",
            "|R2F7D9N3SSQC20|          4|           32|         34|   N|                N|\n",
            "| RN4VK9FV66YPS|          5|           29|         33|   N|                N|\n",
            "|R18T8SFBDXAKSY|          5|           95|         95|   N|                Y|\n",
            "|R36SKVJXZ0I98A|          5|          124|        127|   N|                N|\n",
            "|R3PAIHQSO707G4|          5|          189|        221|   N|                N|\n",
            "|R2TETIV0IVWFSJ|          4|           80|         82|   N|                Y|\n",
            "|R1VBVD23GPZW0E|          5|           55|         58|   N|                Y|\n",
            "|R1AJKXVHURPVCZ|          3|           12|         22|   N|                Y|\n",
            "+--------------+-----------+-------------+-----------+----+-----------------+\n",
            "only showing top 20 rows\n",
            "\n"
          ],
          "name": "stdout"
        }
      ]
    },
    {
      "cell_type": "code",
      "metadata": {
        "id": "t_UJ4qt2yq0L",
        "outputId": "8dd2b663-729a-4973-eccd-864ca94ba3b2",
        "colab": {
          "base_uri": "https://localhost:8080/"
        }
      },
      "source": [
        "# Retrieves all the rows where a review was written as part of the Vine program (paid), vine == 'Y'\n",
        "filteredY_vine_df = filtered2_vine_df.filter(filtered2_vine_df.vine == \"Y\")\n",
        "filteredY_vine_df.show()"
      ],
      "execution_count": 17,
      "outputs": [
        {
          "output_type": "stream",
          "text": [
            "+--------------+-----------+-------------+-----------+----+-----------------+\n",
            "|     review_id|star_rating|helpful_votes|total_votes|vine|verified_purchase|\n",
            "+--------------+-----------+-------------+-----------+----+-----------------+\n",
            "| R9I5FOLKU99RY|          5|           19|         20|   Y|                N|\n",
            "|R3ED60RC69CCQ6|          5|           22|         23|   Y|                N|\n",
            "|R2JM687C525WR9|          3|           33|         33|   Y|                N|\n",
            "| RUB4AUWGHG16G|          4|           25|         27|   Y|                N|\n",
            "|R1S3IDYJUA6V2G|          5|           28|         32|   Y|                N|\n",
            "| RZFLN8FD5Y2M6|          4|           25|         28|   Y|                N|\n",
            "|R1V8NDXD9SETO5|          3|          320|        352|   Y|                N|\n",
            "|R2H4VEFWHP50M3|          5|           26|         36|   Y|                N|\n",
            "|R3DP6Y0A8WXUOV|          5|           21|         21|   Y|                N|\n",
            "| R49L85GZIKH4D|          3|           33|         36|   Y|                N|\n",
            "| R2RQKWRUS11DZ|          5|           18|         20|   Y|                N|\n",
            "| RZL7TPXLJPR2Z|          4|           19|         20|   Y|                N|\n",
            "|R34JSTH01HK1J8|          4|           75|         80|   Y|                N|\n",
            "|R1OI8PAJW4MWUY|          5|           20|         20|   Y|                N|\n",
            "|R1RXSJILN39UY1|          5|           48|         53|   Y|                N|\n",
            "| R79XS8S5EYX59|          3|           20|         22|   Y|                N|\n",
            "|R24STRS5M3QEXQ|          5|           60|         65|   Y|                N|\n",
            "|R15HJU8XNX1XG1|          4|           25|         26|   Y|                N|\n",
            "|R1NMYF3BJM72A0|          4|           57|         60|   Y|                N|\n",
            "| R8XSDH6E6YWMX|          4|           22|         24|   Y|                N|\n",
            "+--------------+-----------+-------------+-----------+----+-----------------+\n",
            "only showing top 20 rows\n",
            "\n"
          ],
          "name": "stdout"
        }
      ]
    },
    {
      "cell_type": "code",
      "metadata": {
        "id": "IzsJfHfS0Tt3",
        "outputId": "62ee732e-fcb6-4dd9-9e5c-cfe788cced0d",
        "colab": {
          "base_uri": "https://localhost:8080/"
        }
      },
      "source": [
        "# Retrieves all the rows where a review was not written as part of the Vine program (unpaid), vine == 'N'\n",
        "filteredN_vine_df = filtered2_vine_df.filter(filtered2_vine_df.vine == \"N\")\n",
        "filteredN_vine_df.show()"
      ],
      "execution_count": 18,
      "outputs": [
        {
          "output_type": "stream",
          "text": [
            "+--------------+-----------+-------------+-----------+----+-----------------+\n",
            "|     review_id|star_rating|helpful_votes|total_votes|vine|verified_purchase|\n",
            "+--------------+-----------+-------------+-----------+----+-----------------+\n",
            "| ROP6ITXO8K5V2|          5|           23|         27|   N|                Y|\n",
            "|R3ND1LVU7AXCVF|          1|           21|         21|   N|                Y|\n",
            "|R1QS8AOD6HX3ED|          4|           59|         81|   N|                N|\n",
            "|R2LWX4TZ67FWPT|          4|           50|         50|   N|                N|\n",
            "|R29IYHPYD14AGI|          3|           84|         84|   N|                Y|\n",
            "|R1F2I723WRK5QV|          5|           20|         20|   N|                Y|\n",
            "| RRO8C1IVZMD6H|          5|           22|         22|   N|                N|\n",
            "|R2GHOWIWDVLN18|          1|           28|         36|   N|                Y|\n",
            "|R30PJ9XUHFTY5D|          5|           42|         43|   N|                N|\n",
            "|R2F7D9N3SSQC20|          4|           32|         34|   N|                N|\n",
            "| RN4VK9FV66YPS|          5|           29|         33|   N|                N|\n",
            "|R18T8SFBDXAKSY|          5|           95|         95|   N|                Y|\n",
            "|R36SKVJXZ0I98A|          5|          124|        127|   N|                N|\n",
            "|R3PAIHQSO707G4|          5|          189|        221|   N|                N|\n",
            "|R2TETIV0IVWFSJ|          4|           80|         82|   N|                Y|\n",
            "|R1VBVD23GPZW0E|          5|           55|         58|   N|                Y|\n",
            "|R1AJKXVHURPVCZ|          3|           12|         22|   N|                Y|\n",
            "|R2QDNZYVEX9X14|          2|           18|         20|   N|                N|\n",
            "|R32RD311POLW7G|          3|           25|         27|   N|                Y|\n",
            "|R1VXO073B9HOGC|          4|           29|         30|   N|                Y|\n",
            "+--------------+-----------+-------------+-----------+----+-----------------+\n",
            "only showing top 20 rows\n",
            "\n"
          ],
          "name": "stdout"
        }
      ]
    },
    {
      "cell_type": "code",
      "metadata": {
        "id": "odo8FCPj0vIb",
        "outputId": "730dd770-89da-4b26-b77e-285d582a1c28",
        "colab": {
          "base_uri": "https://localhost:8080/"
        }
      },
      "source": [
        "# Total number of paid reviews\n",
        "total_reviews_paid = filteredY_vine_df.count()\n",
        "total_reviews_paid"
      ],
      "execution_count": 22,
      "outputs": [
        {
          "output_type": "execute_result",
          "data": {
            "text/plain": [
              "1266"
            ]
          },
          "metadata": {
            "tags": []
          },
          "execution_count": 22
        }
      ]
    },
    {
      "cell_type": "code",
      "metadata": {
        "id": "YudHLuiL2NhT",
        "outputId": "49054477-ff29-48b1-dd20-6a330a3dad70",
        "colab": {
          "base_uri": "https://localhost:8080/"
        }
      },
      "source": [
        "# Total number of 5 star paid reviews\n",
        "total_reviews_paid_5star = filteredY_vine_df.filter(filteredY_vine_df.star_rating == 5).count()\n",
        "total_reviews_paid_5star"
      ],
      "execution_count": 23,
      "outputs": [
        {
          "output_type": "execute_result",
          "data": {
            "text/plain": [
              "432"
            ]
          },
          "metadata": {
            "tags": []
          },
          "execution_count": 23
        }
      ]
    },
    {
      "cell_type": "code",
      "metadata": {
        "id": "CnTNNVsq22OW",
        "outputId": "43b1a5dc-c20c-403c-97c5-4eb3672c71e1",
        "colab": {
          "base_uri": "https://localhost:8080/"
        }
      },
      "source": [
        "# Percentage of 5-star paid reviews\n",
        "percentage_paid_reviews = total_reviews_paid_5star / total_reviews_paid\n",
        "percentage_paid_reviews"
      ],
      "execution_count": 24,
      "outputs": [
        {
          "output_type": "execute_result",
          "data": {
            "text/plain": [
              "0.3412322274881517"
            ]
          },
          "metadata": {
            "tags": []
          },
          "execution_count": 24
        }
      ]
    },
    {
      "cell_type": "code",
      "metadata": {
        "id": "T77KRmYc3Ivp",
        "outputId": "9b6b9346-d510-4cca-ea3f-7e6c12919f11",
        "colab": {
          "base_uri": "https://localhost:8080/"
        }
      },
      "source": [
        "# Total number of unpaid reviews\n",
        "total_reviews_unpaid = filteredN_vine_df.count()\n",
        "total_reviews_unpaid"
      ],
      "execution_count": 25,
      "outputs": [
        {
          "output_type": "execute_result",
          "data": {
            "text/plain": [
              "62028"
            ]
          },
          "metadata": {
            "tags": []
          },
          "execution_count": 25
        }
      ]
    },
    {
      "cell_type": "code",
      "metadata": {
        "id": "ND7dILOF3tB7",
        "outputId": "f318e060-8807-49dd-908f-36b790810ebe",
        "colab": {
          "base_uri": "https://localhost:8080/"
        }
      },
      "source": [
        "# Total number of 5 star unpaid reviews\n",
        "total_reviews_unpaid_5star = filteredN_vine_df.filter(filteredN_vine_df.star_rating == 5).count()\n",
        "total_reviews_unpaid_5star"
      ],
      "execution_count": 26,
      "outputs": [
        {
          "output_type": "execute_result",
          "data": {
            "text/plain": [
              "29982"
            ]
          },
          "metadata": {
            "tags": []
          },
          "execution_count": 26
        }
      ]
    },
    {
      "cell_type": "code",
      "metadata": {
        "id": "hLdUY0EI376w",
        "outputId": "a3d8f757-6fc3-4d2d-d36e-5dc0c1aa027d",
        "colab": {
          "base_uri": "https://localhost:8080/"
        }
      },
      "source": [
        "# Percentage of 5-star unpaid reviews\n",
        "percentage_unpaid_reviews = total_reviews_unpaid_5star / total_reviews_unpaid\n",
        "percentage_unpaid_reviews"
      ],
      "execution_count": 27,
      "outputs": [
        {
          "output_type": "execute_result",
          "data": {
            "text/plain": [
              "0.4833623524859741"
            ]
          },
          "metadata": {
            "tags": []
          },
          "execution_count": 27
        }
      ]
    },
    {
      "cell_type": "code",
      "metadata": {
        "id": "8jjNc-o04ker",
        "outputId": "847c4dda-f395-4d41-e164-ce484af273cf",
        "colab": {
          "base_uri": "https://localhost:8080/"
        }
      },
      "source": [
        "# Create DataFrame with results \n",
        "dataframe = spark.createDataFrame([\n",
        "                                   (\"Vine Reviews\", total_reviews_paid, total_reviews_paid_5star, percentage_paid_reviews),\n",
        "                                   (\"Non-Vine Reviews\", total_reviews_unpaid, total_reviews_unpaid_5star, percentage_unpaid_reviews),\n",
        "], [\"\", \"Total Reviews\", \"Total 5 Star Reviews\", \"Percentage of 5 Star Reviews\"])\n",
        "\n",
        "dataframe.show()"
      ],
      "execution_count": 28,
      "outputs": [
        {
          "output_type": "stream",
          "text": [
            "+----------------+-------------+--------------------+----------------------------+\n",
            "|                |Total Reviews|Total 5 Star Reviews|Percentage of 5 Star Reviews|\n",
            "+----------------+-------------+--------------------+----------------------------+\n",
            "|    Vine Reviews|         1266|                 432|          0.3412322274881517|\n",
            "|Non-Vine Reviews|        62028|               29982|          0.4833623524859741|\n",
            "+----------------+-------------+--------------------+----------------------------+\n",
            "\n"
          ],
          "name": "stdout"
        }
      ]
    }
  ]
}